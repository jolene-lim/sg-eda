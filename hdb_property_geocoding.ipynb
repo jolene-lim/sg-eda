{
 "cells": [
  {
   "cell_type": "code",
   "execution_count": 1,
   "metadata": {},
   "outputs": [],
   "source": [
    "import pandas as pd\n",
    "import requests\n",
    "import re\n",
    "import time"
   ]
  },
  {
   "cell_type": "code",
   "execution_count": 2,
   "metadata": {},
   "outputs": [
    {
     "output_type": "execute_result",
     "data": {
      "text/plain": "  blk_no             street  max_floor_lvl  year_completed residential  \\\n0      1           BEACH RD             16            1970           Y   \n1      1    BEDOK STH AVE 1             14            1975           Y   \n2      1      CANTONMENT RD              2            2010           N   \n3      1       CHAI CHEE RD             15            1982           Y   \n4      1  CHANGI VILLAGE RD              4            1975           Y   \n\n  commercial market_hawker miscellaneous multistorey_carpark  \\\n0          Y             N             N                   N   \n1          N             N             Y                   N   \n2          Y             N             N                   N   \n3          N             N             N                   N   \n4          Y             N             N                   N   \n\n  precinct_pavilion  ... 3room_sold  4room_sold  5room_sold  exec_sold  \\\n0                 N  ...        138           1           2          0   \n1                 N  ...        204           0           2          0   \n2                 N  ...          0           0           0          0   \n3                 N  ...          0          10          92          0   \n4                 N  ...         54           0           1          0   \n\n   multigen_sold  studio_apartment_sold  1room_rental  2room_rental  \\\n0              0                      0             0             0   \n1              0                      0             0             0   \n2              0                      0             0             0   \n3              0                      0             0             0   \n4              0                      0             0             0   \n\n   3room_rental  other_room_rental  \n0             0                  0  \n1             0                  0  \n2             0                  0  \n3             0                  0  \n4             0                  0  \n\n[5 rows x 24 columns]",
      "text/html": "<div>\n<style scoped>\n    .dataframe tbody tr th:only-of-type {\n        vertical-align: middle;\n    }\n\n    .dataframe tbody tr th {\n        vertical-align: top;\n    }\n\n    .dataframe thead th {\n        text-align: right;\n    }\n</style>\n<table border=\"1\" class=\"dataframe\">\n  <thead>\n    <tr style=\"text-align: right;\">\n      <th></th>\n      <th>blk_no</th>\n      <th>street</th>\n      <th>max_floor_lvl</th>\n      <th>year_completed</th>\n      <th>residential</th>\n      <th>commercial</th>\n      <th>market_hawker</th>\n      <th>miscellaneous</th>\n      <th>multistorey_carpark</th>\n      <th>precinct_pavilion</th>\n      <th>...</th>\n      <th>3room_sold</th>\n      <th>4room_sold</th>\n      <th>5room_sold</th>\n      <th>exec_sold</th>\n      <th>multigen_sold</th>\n      <th>studio_apartment_sold</th>\n      <th>1room_rental</th>\n      <th>2room_rental</th>\n      <th>3room_rental</th>\n      <th>other_room_rental</th>\n    </tr>\n  </thead>\n  <tbody>\n    <tr>\n      <th>0</th>\n      <td>1</td>\n      <td>BEACH RD</td>\n      <td>16</td>\n      <td>1970</td>\n      <td>Y</td>\n      <td>Y</td>\n      <td>N</td>\n      <td>N</td>\n      <td>N</td>\n      <td>N</td>\n      <td>...</td>\n      <td>138</td>\n      <td>1</td>\n      <td>2</td>\n      <td>0</td>\n      <td>0</td>\n      <td>0</td>\n      <td>0</td>\n      <td>0</td>\n      <td>0</td>\n      <td>0</td>\n    </tr>\n    <tr>\n      <th>1</th>\n      <td>1</td>\n      <td>BEDOK STH AVE 1</td>\n      <td>14</td>\n      <td>1975</td>\n      <td>Y</td>\n      <td>N</td>\n      <td>N</td>\n      <td>Y</td>\n      <td>N</td>\n      <td>N</td>\n      <td>...</td>\n      <td>204</td>\n      <td>0</td>\n      <td>2</td>\n      <td>0</td>\n      <td>0</td>\n      <td>0</td>\n      <td>0</td>\n      <td>0</td>\n      <td>0</td>\n      <td>0</td>\n    </tr>\n    <tr>\n      <th>2</th>\n      <td>1</td>\n      <td>CANTONMENT RD</td>\n      <td>2</td>\n      <td>2010</td>\n      <td>N</td>\n      <td>Y</td>\n      <td>N</td>\n      <td>N</td>\n      <td>N</td>\n      <td>N</td>\n      <td>...</td>\n      <td>0</td>\n      <td>0</td>\n      <td>0</td>\n      <td>0</td>\n      <td>0</td>\n      <td>0</td>\n      <td>0</td>\n      <td>0</td>\n      <td>0</td>\n      <td>0</td>\n    </tr>\n    <tr>\n      <th>3</th>\n      <td>1</td>\n      <td>CHAI CHEE RD</td>\n      <td>15</td>\n      <td>1982</td>\n      <td>Y</td>\n      <td>N</td>\n      <td>N</td>\n      <td>N</td>\n      <td>N</td>\n      <td>N</td>\n      <td>...</td>\n      <td>0</td>\n      <td>10</td>\n      <td>92</td>\n      <td>0</td>\n      <td>0</td>\n      <td>0</td>\n      <td>0</td>\n      <td>0</td>\n      <td>0</td>\n      <td>0</td>\n    </tr>\n    <tr>\n      <th>4</th>\n      <td>1</td>\n      <td>CHANGI VILLAGE RD</td>\n      <td>4</td>\n      <td>1975</td>\n      <td>Y</td>\n      <td>Y</td>\n      <td>N</td>\n      <td>N</td>\n      <td>N</td>\n      <td>N</td>\n      <td>...</td>\n      <td>54</td>\n      <td>0</td>\n      <td>1</td>\n      <td>0</td>\n      <td>0</td>\n      <td>0</td>\n      <td>0</td>\n      <td>0</td>\n      <td>0</td>\n      <td>0</td>\n    </tr>\n  </tbody>\n</table>\n<p>5 rows × 24 columns</p>\n</div>"
     },
     "metadata": {},
     "execution_count": 2
    }
   ],
   "source": [
    "hdb = pd.read_csv('hdb-property-information.csv')\n",
    "hdb.head()"
   ]
  },
  {
   "cell_type": "code",
   "execution_count": 3,
   "metadata": {},
   "outputs": [],
   "source": [
    "# sample\n",
    "data = requests.get('https://developers.onemap.sg/commonapi/search?searchVal=9c+boon+tiong+road&returnGeom=Y&getAddrDetails=Y&pageNum=1')"
   ]
  },
  {
   "cell_type": "code",
   "execution_count": 4,
   "metadata": {},
   "outputs": [
    {
     "output_type": "execute_result",
     "data": {
      "text/plain": "b'{\"found\":1,\"totalNumPages\":1,\"pageNum\":1,\"results\":[{\"SEARCHVAL\":\"TIONG BAHRU VIEW\",\"BLK_NO\":\"9C\",\"ROAD_NAME\":\"BOON TIONG ROAD\",\"BUILDING\":\"TIONG BAHRU VIEW\",\"ADDRESS\":\"9C BOON TIONG ROAD TIONG BAHRU VIEW SINGAPORE 164009\",\"POSTAL\":\"164009\",\"X\":\"27533.064019999998\",\"Y\":\"29918.253210000003\",\"LATITUDE\":\"1.28684456\",\"LONGITUDE\":\"103.829123\",\"LONGTITUDE\":\"103.829123\"}]}'"
     },
     "metadata": {},
     "execution_count": 4
    }
   ],
   "source": [
    "data.content"
   ]
  },
  {
   "cell_type": "code",
   "execution_count": 5,
   "metadata": {},
   "outputs": [
    {
     "output_type": "execute_result",
     "data": {
      "text/plain": "  blk_no             street                query\n0      1           BEACH RD           1+BEACH+RD\n1      1    BEDOK STH AVE 1    1+BEDOK+STH+AVE+1\n2      1      CANTONMENT RD      1+CANTONMENT+RD\n3      1       CHAI CHEE RD       1+CHAI+CHEE+RD\n4      1  CHANGI VILLAGE RD  1+CHANGI+VILLAGE+RD",
      "text/html": "<div>\n<style scoped>\n    .dataframe tbody tr th:only-of-type {\n        vertical-align: middle;\n    }\n\n    .dataframe tbody tr th {\n        vertical-align: top;\n    }\n\n    .dataframe thead th {\n        text-align: right;\n    }\n</style>\n<table border=\"1\" class=\"dataframe\">\n  <thead>\n    <tr style=\"text-align: right;\">\n      <th></th>\n      <th>blk_no</th>\n      <th>street</th>\n      <th>query</th>\n    </tr>\n  </thead>\n  <tbody>\n    <tr>\n      <th>0</th>\n      <td>1</td>\n      <td>BEACH RD</td>\n      <td>1+BEACH+RD</td>\n    </tr>\n    <tr>\n      <th>1</th>\n      <td>1</td>\n      <td>BEDOK STH AVE 1</td>\n      <td>1+BEDOK+STH+AVE+1</td>\n    </tr>\n    <tr>\n      <th>2</th>\n      <td>1</td>\n      <td>CANTONMENT RD</td>\n      <td>1+CANTONMENT+RD</td>\n    </tr>\n    <tr>\n      <th>3</th>\n      <td>1</td>\n      <td>CHAI CHEE RD</td>\n      <td>1+CHAI+CHEE+RD</td>\n    </tr>\n    <tr>\n      <th>4</th>\n      <td>1</td>\n      <td>CHANGI VILLAGE RD</td>\n      <td>1+CHANGI+VILLAGE+RD</td>\n    </tr>\n  </tbody>\n</table>\n</div>"
     },
     "metadata": {},
     "execution_count": 5
    }
   ],
   "source": [
    "address = hdb.loc[:, ['blk_no', 'street']]\n",
    "address['query'] = address['blk_no'].astype(str) + '+' + address['street'].astype(str)\n",
    "address['query'] = [re.sub(' ', '+', query) for query in address['query']]\n",
    "address.head()"
   ]
  },
  {
   "cell_type": "code",
   "execution_count": 6,
   "metadata": {},
   "outputs": [],
   "source": [
    "address_dict = address.to_dict('records')"
   ]
  },
  {
   "cell_type": "code",
   "execution_count": 9,
   "metadata": {
    "tags": [
     "outputPrepend"
    ]
   },
   "outputs": [
    {
     "output_type": "stream",
     "name": "stdout",
     "text": "search?searchVal=438B+SENGKANG+WEST+AVE&returnGeom=Y&getAddrDetails=Y&pageNum=1 (Caused by NewConnectionError('<urllib3.connection.VerifiedHTTPSConnection object at 0x0000025108934C18>: Failed to establish a new connection: [Errno 11002] getaddrinfo failed'))at record 6689\nexception HTTPSConnectionPool(host='developers.onemap.sg', port=443): Max retries exceeded with url: /commonapi/search?searchVal=438C+BT+BATOK+WEST+AVE+8&returnGeom=Y&getAddrDetails=Y&pageNum=1 (Caused by NewConnectionError('<urllib3.connection.VerifiedHTTPSConnection object at 0x00000251089343C8>: Failed to establish a new connection: [Errno 11002] getaddrinfo failed'))at record 6690\nexception HTTPSConnectionPool(host='developers.onemap.sg', port=443): Max retries exceeded with url: /commonapi/search?searchVal=439+ANG+MO+KIO+AVE+10&returnGeom=Y&getAddrDetails=Y&pageNum=1 (Caused by NewConnectionError('<urllib3.connection.VerifiedHTTPSConnection object at 0x0000025108934780>: Failed to establish a new connection: [Errno 11002] getaddrinfo failed'))at record 6691\nexception HTTPSConnectionPool(host='developers.onemap.sg', port=443): Max retries exceeded with url: /commonapi/search?searchVal=439+BT+BATOK+WEST+AVE+8&returnGeom=Y&getAddrDetails=Y&pageNum=1 (Caused by NewConnectionError('<urllib3.connection.VerifiedHTTPSConnection object at 0x0000025108934C18>: Failed to establish a new connection: [Errno 11002] getaddrinfo failed'))at record 6692\nexception HTTPSConnectionPool(host='developers.onemap.sg', port=443): Max retries exceeded with url: /commonapi/search?searchVal=439+CHOA+CHU+KANG+AVE+4&returnGeom=Y&getAddrDetails=Y&pageNum=1 (Caused by NewConnectionError('<urllib3.connection.VerifiedHTTPSConnection object at 0x00000251089343C8>: Failed to establish a new connection: [Errno 11002] getaddrinfo failed'))at record 6693\nexception HTTPSConnectionPool(host='developers.onemap.sg', port=443): Max retries exceeded with url: /commonapi/search?searchVal=439+CLEMENTI+AVE+3&returnGeom=Y&getAddrDetails=Y&pageNum=1 (Caused by NewConnectionError('<urllib3.connection.VerifiedHTTPSConnection object at 0x0000025108934780>: Failed to establish a new connection: [Errno 11002] getaddrinfo failed'))at record 6694\nexception HTTPSConnectionPool(host='developers.onemap.sg', port=443): Max retries exceeded with url: /commonapi/search?searchVal=439+FAJAR+RD&returnGeom=Y&getAddrDetails=Y&pageNum=1 (Caused by NewConnectionError('<urllib3.connection.VerifiedHTTPSConnection object at 0x0000025108934C18>: Failed to establish a new connection: [Errno 11002] getaddrinfo failed'))at record 6695\nexception HTTPSConnectionPool(host='developers.onemap.sg', port=443): Max retries exceeded with url: /commonapi/search?searchVal=439+HOUGANG+AVE+8&returnGeom=Y&getAddrDetails=Y&pageNum=1 (Caused by NewConnectionError('<urllib3.connection.VerifiedHTTPSConnection object at 0x00000251089343C8>: Failed to establish a new connection: [Errno 11002] getaddrinfo failed'))at record 6696\nexception HTTPSConnectionPool(host='developers.onemap.sg', port=443): Max retries exceeded with url: /commonapi/search?searchVal=439+JURONG+WEST+AVE+1&returnGeom=Y&getAddrDetails=Y&pageNum=1 (Caused by NewConnectionError('<urllib3.connection.VerifiedHTTPSConnection object at 0x000002510893B3C8>: Failed to establish a new connection: [Errno 11002] getaddrinfo failed'))at record 6697\nexception HTTPSConnectionPool(host='developers.onemap.sg', port=443): Max retries exceeded with url: /commonapi/search?searchVal=439+SENGKANG+WEST+AVE&returnGeom=Y&getAddrDetails=Y&pageNum=1 (Caused by NewConnectionError('<urllib3.connection.VerifiedHTTPSConnection object at 0x000002510893B3C8>: Failed to establish a new connection: [Errno 11002] getaddrinfo failed'))at record 6698\nexception HTTPSConnectionPool(host='developers.onemap.sg', port=443): Max retries exceeded with url: /commonapi/search?searchVal=439+TAMPINES+ST+43&returnGeom=Y&getAddrDetails=Y&pageNum=1 (Caused by NewConnectionError('<urllib3.connection.VerifiedHTTPSConnection object at 0x000002510893B940>: Failed to establish a new connection: [Errno 11002] getaddrinfo failed'))at record 6699\nat 6700\nexception HTTPSConnectionPool(host='developers.onemap.sg', port=443): Max retries exceeded with url: /commonapi/search?searchVal=439+YISHUN+AVE+11&returnGeom=Y&getAddrDetails=Y&pageNum=1 (Caused by NewConnectionError('<urllib3.connection.VerifiedHTTPSConnection object at 0x000002510893B400>: Failed to establish a new connection: [Errno 11002] getaddrinfo failed'))at record 6700\nexception HTTPSConnectionPool(host='developers.onemap.sg', port=443): Max retries exceeded with url: /commonapi/search?searchVal=439A+BT+BATOK+WEST+AVE+8&returnGeom=Y&getAddrDetails=Y&pageNum=1 (Caused by NewConnectionError('<urllib3.connection.VerifiedHTTPSConnection object at 0x0000025108934F98>: Failed to establish a new connection: [Errno 11002] getaddrinfo failed'))at record 6701\nexception HTTPSConnectionPool(host='developers.onemap.sg', port=443): Max retries exceeded with url: /commonapi/search?searchVal=439A+SENGKANG+WEST+AVE&returnGeom=Y&getAddrDetails=Y&pageNum=1 (Caused by NewConnectionError('<urllib3.connection.VerifiedHTTPSConnection object at 0x00000251089343C8>: Failed to establish a new connection: [Errno 11002] getaddrinfo failed'))at record 6702\nexception HTTPSConnectionPool(host='developers.onemap.sg', port=443): Max retries exceeded with url: /commonapi/search?searchVal=439B+BT+BATOK+WEST+AVE+8&returnGeom=Y&getAddrDetails=Y&pageNum=1 (Caused by NewConnectionError('<urllib3.connection.VerifiedHTTPSConnection object at 0x0000025108934D68>: Failed to establish a new connection: [Errno 11002] getaddrinfo failed'))at record 6703\nexception HTTPSConnectionPool(host='developers.onemap.sg', port=443): Max retries exceeded with url: /commonapi/search?searchVal=439B+SENGKANG+WEST+AVE&returnGeom=Y&getAddrDetails=Y&pageNum=1 (Caused by NewConnectionError('<urllib3.connection.VerifiedHTTPSConnection object at 0x00000251089346D8>: Failed to establish a new connection: [Errno 11002] getaddrinfo failed'))at record 6704\nexception HTTPSConnectionPool(host='developers.onemap.sg', port=443): Max retries exceeded with url: /commonapi/search?searchVal=439C+BT+BATOK+WEST+AVE+8&returnGeom=Y&getAddrDetails=Y&pageNum=1 (Caused by NewConnectionError('<urllib3.connection.VerifiedHTTPSConnection object at 0x0000025108934D30>: Failed to establish a new connection: [Errno 11002] getaddrinfo failed'))at record 6705\nexception HTTPSConnectionPool(host='developers.onemap.sg', port=443): Max retries exceeded with url: /commonapi/search?searchVal=439C+SENGKANG+WEST+AVE&returnGeom=Y&getAddrDetails=Y&pageNum=1 (Caused by NewConnectionError('<urllib3.connection.VerifiedHTTPSConnection object at 0x0000025108934278>: Failed to establish a new connection: [Errno 11002] getaddrinfo failed'))at record 6706\nexception HTTPSConnectionPool(host='developers.onemap.sg', port=443): Max retries exceeded with url: /commonapi/search?searchVal=44+BEDOK+STH+RD&returnGeom=Y&getAddrDetails=Y&pageNum=1 (Caused by NewConnectionError('<urllib3.connection.VerifiedHTTPSConnection object at 0x0000025108934F28>: Failed to establish a new connection: [Errno 11002] getaddrinfo failed'))at record 6707\nexception HTTPSConnectionPool(host='developers.onemap.sg', port=443): Max retries exceeded with url: /commonapi/search?searchVal=44+BENDEMEER+RD&returnGeom=Y&getAddrDetails=Y&pageNum=1 (Caused by NewConnectionError('<urllib3.connection.VerifiedHTTPSConnection object at 0x00000251089349E8>: Failed to establish a new connection: [Errno 11002] getaddrinfo failed'))at record 6708\nexception HTTPSConnectionPool(host='developers.onemap.sg', port=443): Max retries exceeded with url: /commonapi/search?searchVal=44+BEO+CRES&returnGeom=Y&getAddrDetails=Y&pageNum=1 (Caused by NewConnectionError('<urllib3.connection.VerifiedHTTPSConnection object at 0x0000025108934780>: Failed to establish a new connection: [Errno 11002] getaddrinfo failed'))at record 6709\nexception HTTPSConnectionPool(host='developers.onemap.sg', port=443): Max retries exceeded with url: /commonapi/search?searchVal=44+CHAI+CHEE+ST&returnGeom=Y&getAddrDetails=Y&pageNum=1 (Caused by NewConnectionError('<urllib3.connection.VerifiedHTTPSConnection object at 0x0000025108934F98>: Failed to establish a new connection: [Errno 11002] getaddrinfo failed'))at record 6710\nexception HTTPSConnectionPool(host='developers.onemap.sg', port=443): Max retries exceeded with url: /commonapi/search?searchVal=44+CIRCUIT+RD&returnGeom=Y&getAddrDetails=Y&pageNum=1 (Caused by NewConnectionError('<urllib3.connection.VerifiedHTTPSConnection object at 0x0000025108934208>: Failed to establish a new connection: [Errno 11002] getaddrinfo failed'))at record 6711\nexception HTTPSConnectionPool(host='developers.onemap.sg', port=443): Max retries exceeded with url: /commonapi/search?searchVal=44+HOLLAND+DR&returnGeom=Y&getAddrDetails=Y&pageNum=1 (Caused by NewConnectionError('<urllib3.connection.VerifiedHTTPSConnection object at 0x0000025108934668>: Failed to establish a new connection: [Errno 11002] getaddrinfo failed'))at record 6712\nexception HTTPSConnectionPool(host='developers.onemap.sg', port=443): Max retries exceeded with url: /commonapi/search?searchVal=44+JLN+BAHAGIA&returnGeom=Y&getAddrDetails=Y&pageNum=1 (Caused by NewConnectionError('<urllib3.connection.VerifiedHTTPSConnection object at 0x00000251089346A0>: Failed to establish a new connection: [Errno 11002] getaddrinfo failed'))at record 6713\nexception HTTPSConnectionPool(host='developers.onemap.sg', port=443): Max retries exceeded with url: /commonapi/search?searchVal=44+LENGKOK+BAHRU&returnGeom=Y&getAddrDetails=Y&pageNum=1 (Caused by NewConnectionError('<urllib3.connection.VerifiedHTTPSConnection object at 0x0000025108934588>: Failed to establish a new connection: [Errno 11002] getaddrinfo failed'))at record 6714\nexception HTTPSConnectionPool(host='developers.onemap.sg', port=443): Max retries exceeded with url: /commonapi/search?searchVal=44+LOR+5+TOA+PAYOH&returnGeom=Y&getAddrDetails=Y&pageNum=1 (Caused by NewConnectionError('<urllib3.connection.VerifiedHTTPSConnection object at 0x0000025108934EF0>: Failed to establish a new connection: [Errno 11002] getaddrinfo failed'))at record 6715\nexception HTTPSConnectionPool(host='developers.onemap.sg', port=443): Max retries exceeded with url: /commonapi/search?searchVal=44+MARINE+CRES&returnGeom=Y&getAddrDetails=Y&pageNum=1 (Caused by NewConnectionError('<urllib3.connection.VerifiedHTTPSConnection object at 0x000002510892E5F8>: Failed to establish a new connection: [Errno 11002] getaddrinfo failed'))at record 6716\nexception HTTPSConnectionPool(host='developers.onemap.sg', port=443): Max retries exceeded with url: /commonapi/search?searchVal=44+MOH+GUAN+TER&returnGeom=Y&getAddrDetails=Y&pageNum=1 (Caused by NewConnectionError('<urllib3.connection.VerifiedHTTPSConnection object at 0x000002510893B358>: Failed to establish a new connection: [Errno 11002] getaddrinfo failed'))at record 6717\nexception HTTPSConnectionPool(host='developers.onemap.sg', port=443): Max retries exceeded with url: /commonapi/search?searchVal=44+OWEN+RD&returnGeom=Y&getAddrDetails=Y&pageNum=1 (Caused by NewConnectionError('<urllib3.connection.VerifiedHTTPSConnection object at 0x000002510893B400>: Failed to establish a new connection: [Errno 11002] getaddrinfo failed'))at record 6718\nexception HTTPSConnectionPool(host='developers.onemap.sg', port=443): Max retries exceeded with url: /commonapi/search?searchVal=44+SIMS+DR&returnGeom=Y&getAddrDetails=Y&pageNum=1 (Caused by NewConnectionError('<urllib3.connection.VerifiedHTTPSConnection object at 0x000002510893B3C8>: Failed to establish a new connection: [Errno 11002] getaddrinfo failed'))at record 6719\nexception HTTPSConnectionPool(host='developers.onemap.sg', port=443): Max retries exceeded with url: /commonapi/search?searchVal=44+STIRLING+RD&returnGeom=Y&getAddrDetails=Y&pageNum=1 (Caused by NewConnectionError('<urllib3.connection.VerifiedHTTPSConnection object at 0x000002510893B780>: Failed to establish a new connection: [Errno 11001] getaddrinfo failed'))at record 6720\nat 6800\nexception HTTPSConnectionPool(host='developers.onemap.sg', port=443): Max retries exceeded with url: /commonapi/search?searchVal=449+CLEMENTI+AVE+3&returnGeom=Y&getAddrDetails=Y&pageNum=1 (Caused by NewConnectionError('<urllib3.connection.VerifiedHTTPSConnection object at 0x0000025108998C88>: Failed to establish a new connection: [Errno 11001] getaddrinfo failed'))at record 6894\nat 6900\nat 7000\nat 7100\nat 7200\nat 7300\nat 7400\nat 7500\nat 7600\nsth failed at record 7638\nat 7700\nat 7800\nat 7900\nat 8000\nat 8100\nexception HTTPSConnectionPool(host='developers.onemap.sg', port=443): Max retries exceeded with url: /commonapi/search?searchVal=526+BEDOK+NTH+ST+3&returnGeom=Y&getAddrDetails=Y&pageNum=1 (Caused by NewConnectionError('<urllib3.connection.VerifiedHTTPSConnection object at 0x0000025108C0D198>: Failed to establish a new connection: [Errno 11001] getaddrinfo failed'))at record 8155\nat 8200\nat 8300\nat 8400\nat 8500\nat 8600\nat 8700\nexception HTTPSConnectionPool(host='developers.onemap.sg', port=443): Max retries exceeded with url: /commonapi/search?searchVal=59+C'WEALTH+DR&returnGeom=Y&getAddrDetails=Y&pageNum=1 (Caused by NewConnectionError('<urllib3.connection.VerifiedHTTPSConnection object at 0x0000025108D45A58>: Failed to establish a new connection: [Errno 11001] getaddrinfo failed'))at record 8790\nat 8800\nsth failed at record 8848\nat 8900\nat 9000\nat 9100\nat 9200\nat 9300\nat 9400\nat 9500\nat 9600\nat 9700\nat 9800\nat 9900\nat 10000\nat 10100\nat 10200\nat 10300\nsth failed at record 10315\nat 10400\nexception HTTPSConnectionPool(host='developers.onemap.sg', port=443): Max retries exceeded with url: /commonapi/search?searchVal=707+YISHUN+AVE+5&returnGeom=Y&getAddrDetails=Y&pageNum=1 (Caused by NewConnectionError('<urllib3.connection.VerifiedHTTPSConnection object at 0x0000025109085438>: Failed to establish a new connection: [Errno 11001] getaddrinfo failed'))at record 10419\nat 10500\nat 10600\nat 10700\nat 10800\nat 10900\nat 11000\nat 11100\nexception HTTPSConnectionPool(host='developers.onemap.sg', port=443): Max retries exceeded with url: /commonapi/search?searchVal=799+YISHUN+RING+RD&returnGeom=Y&getAddrDetails=Y&pageNum=1 (Caused by NewConnectionError('<urllib3.connection.VerifiedHTTPSConnection object at 0x00000251091D3198>: Failed to establish a new connection: [Errno 11001] getaddrinfo failed'))at record 11105\nexception HTTPSConnectionPool(host='developers.onemap.sg', port=443): Max retries exceeded with url: /commonapi/search?searchVal=8+BEDOK+STH+AVE+2&returnGeom=Y&getAddrDetails=Y&pageNum=1 (Caused by NewConnectionError('<urllib3.connection.VerifiedHTTPSConnection object at 0x00000251091D36D8>: Failed to establish a new connection: [Errno 11001] getaddrinfo failed'))at record 11106\nexception HTTPSConnectionPool(host='developers.onemap.sg', port=443): Max retries exceeded with url: /commonapi/search?searchVal=8+BOON+KENG+RD&returnGeom=Y&getAddrDetails=Y&pageNum=1 (Caused by NewConnectionError('<urllib3.connection.VerifiedHTTPSConnection object at 0x00000251091D3518>: Failed to establish a new connection: [Errno 11001] getaddrinfo failed'))at record 11107\nexception HTTPSConnectionPool(host='developers.onemap.sg', port=443): Max retries exceeded with url: /commonapi/search?searchVal=8+CANTONMENT+CL&returnGeom=Y&getAddrDetails=Y&pageNum=1 (Caused by NewConnectionError('<urllib3.connection.VerifiedHTTPSConnection object at 0x00000251091D3668>: Failed to establish a new connection: [Errno 11001] getaddrinfo failed'))at record 11108\nsth failed at record 11127\nat 11200\nat 11300\nexception HTTPSConnectionPool(host='developers.onemap.sg', port=443): Max retries exceeded with url: /commonapi/search?searchVal=817B+KEAT+HONG+LINK&returnGeom=Y&getAddrDetails=Y&pageNum=1 (Caused by NewConnectionError('<urllib3.connection.VerifiedHTTPSConnection object at 0x0000025109256EB8>: Failed to establish a new connection: [Errno 11001] getaddrinfo failed'))at record 11318\nexception HTTPSConnectionPool(host='developers.onemap.sg', port=443): Max retries exceeded with url: /commonapi/search?searchVal=817C+KEAT+HONG+LINK&returnGeom=Y&getAddrDetails=Y&pageNum=1 (Caused by NewConnectionError('<urllib3.connection.VerifiedHTTPSConnection object at 0x000002510923BC50>: Failed to establish a new connection: [Errno 11002] getaddrinfo failed'))at record 11319\nexception HTTPSConnectionPool(host='developers.onemap.sg', port=443): Max retries exceeded with url: /commonapi/search?searchVal=818+CHOA+CHU+KANG+AVE+1&returnGeom=Y&getAddrDetails=Y&pageNum=1 (Caused by NewConnectionError('<urllib3.connection.VerifiedHTTPSConnection object at 0x000002510924A4E0>: Failed to establish a new connection: [Errno 11002] getaddrinfo failed'))at record 11320\nexception HTTPSConnectionPool(host='developers.onemap.sg', port=443): Max retries exceeded with url: /commonapi/search?searchVal=818+JURONG+WEST+ST+81&returnGeom=Y&getAddrDetails=Y&pageNum=1 (Caused by NewConnectionError('<urllib3.connection.VerifiedHTTPSConnection object at 0x000002510923B160>: Failed to establish a new connection: [Errno 11002] getaddrinfo failed'))at record 11321\nexception HTTPSConnectionPool(host='developers.onemap.sg', port=443): Max retries exceeded with url: /commonapi/search?searchVal=818+TAMPINES+ST+81&returnGeom=Y&getAddrDetails=Y&pageNum=1 (Caused by NewConnectionError('<urllib3.connection.VerifiedHTTPSConnection object at 0x0000025109256898>: Failed to establish a new connection: [Errno 11002] getaddrinfo failed'))at record 11322\nexception HTTPSConnectionPool(host='developers.onemap.sg', port=443): Max retries exceeded with url: /commonapi/search?searchVal=818+WOODLANDS+ST+82&returnGeom=Y&getAddrDetails=Y&pageNum=1 (Caused by NewConnectionError('<urllib3.connection.VerifiedHTTPSConnection object at 0x0000025109256860>: Failed to establish a new connection: [Errno 11002] getaddrinfo failed'))at record 11323\nexception HTTPSConnectionPool(host='developers.onemap.sg', port=443): Max retries exceeded with url: /commonapi/search?searchVal=818A+CHOA+CHU+KANG+AVE+1&returnGeom=Y&getAddrDetails=Y&pageNum=1 (Caused by NewConnectionError('<urllib3.connection.VerifiedHTTPSConnection object at 0x0000025109256D30>: Failed to establish a new connection: [Errno 11002] getaddrinfo failed'))at record 11324\nexception HTTPSConnectionPool(host='developers.onemap.sg', port=443): Max retries exceeded with url: /commonapi/search?searchVal=818B+CHOA+CHU+KANG+AVE+1&returnGeom=Y&getAddrDetails=Y&pageNum=1 (Caused by NewConnectionError('<urllib3.connection.VerifiedHTTPSConnection object at 0x0000025109256198>: Failed to establish a new connection: [Errno 11002] getaddrinfo failed'))at record 11325\nexception HTTPSConnectionPool(host='developers.onemap.sg', port=443): Max retries exceeded with url: /commonapi/search?searchVal=818C+CHOA+CHU+KANG+AVE+1&returnGeom=Y&getAddrDetails=Y&pageNum=1 (Caused by NewConnectionError('<urllib3.connection.VerifiedHTTPSConnection object at 0x0000025109256978>: Failed to establish a new connection: [Errno 11002] getaddrinfo failed'))at record 11326\nexception HTTPSConnectionPool(host='developers.onemap.sg', port=443): Max retries exceeded with url: /commonapi/search?searchVal=819+JURONG+WEST+ST+81&returnGeom=Y&getAddrDetails=Y&pageNum=1 (Caused by NewConnectionError('<urllib3.connection.VerifiedHTTPSConnection object at 0x0000025109256588>: Failed to establish a new connection: [Errno 11001] getaddrinfo failed'))at record 11327\nexception HTTPSConnectionPool(host='developers.onemap.sg', port=443): Max retries exceeded with url: /commonapi/search?searchVal=819+TAMPINES+ST+81&returnGeom=Y&getAddrDetails=Y&pageNum=1 (Caused by NewConnectionError('<urllib3.connection.VerifiedHTTPSConnection object at 0x0000025109256BE0>: Failed to establish a new connection: [Errno 11001] getaddrinfo failed'))at record 11328\nat 11400\nat 11500\nat 11600\nat 11700\nat 11800\nsth failed at record 11859\nat 11900\nat 12000\nat 12100\nat 12200\n"
    }
   ],
   "source": [
    "for i in range(0, len(address_dict)):\n",
    "    if i % 100 == 0:\n",
    "        print('at ' + str(i))\n",
    "\n",
    "    try:\n",
    "        record = address_dict[i]\n",
    "        query = 'https://developers.onemap.sg/commonapi/search?searchVal={0}&returnGeom=Y&getAddrDetails=Y&pageNum=1'.format(record['query'])\n",
    "        resp = requests.get(query)\n",
    "        if resp.status_code == 200:\n",
    "            content = resp.json()\n",
    "            if content['found'] > 0:\n",
    "                record['coordinates'] = [content['results'][0]['LATITUDE'], content['results'][0]['LONGTITUDE']]\n",
    "                record['found'] = content['found']\n",
    "                record['full'] = content['results']\n",
    "                record['ok'] = 1\n",
    "                continue\n",
    "        \n",
    "        print('sth failed at record ' + str(i))\n",
    "        record['ok'] = 0\n",
    "\n",
    "    except Exception as e:\n",
    "        print('exception ' + str(e) + 'at record ' + str(i))\n",
    "        record['ok'] = 0\n",
    "    \n",
    "    time.sleep(0.08)"
   ]
  },
  {
   "cell_type": "code",
   "execution_count": 10,
   "metadata": {},
   "outputs": [
    {
     "output_type": "execute_result",
     "data": {
      "text/plain": "{'blk_no': '1',\n 'street': 'BEACH RD',\n 'query': '1+BEACH+RD',\n 'ok': 1,\n 'coordinates': ['1.303671351', '103.8644787'],\n 'found': 3,\n 'full': [{'SEARCHVAL': 'BEACH ROAD GARDENS',\n   'BLK_NO': '1',\n   'ROAD_NAME': 'BEACH ROAD',\n   'BUILDING': 'BEACH ROAD GARDENS',\n   'ADDRESS': '1 BEACH ROAD BEACH ROAD GARDENS SINGAPORE 190001',\n   'POSTAL': '190001',\n   'X': '31467.832739999998',\n   'Y': '31778.894',\n   'LATITUDE': '1.303671351',\n   'LONGITUDE': '103.8644787',\n   'LONGTITUDE': '103.8644787'},\n  {'SEARCHVAL': 'RAFFLES HOTEL',\n   'BLK_NO': '1',\n   'ROAD_NAME': 'BEACH ROAD',\n   'BUILDING': 'RAFFLES HOTEL',\n   'ADDRESS': '1 BEACH ROAD RAFFLES HOTEL SINGAPORE 189673',\n   'POSTAL': '189673',\n   'X': '30309.26725',\n   'Y': '30830.8196',\n   'LATITUDE': '1.295097408',\n   'LONGITUDE': '103.8540683',\n   'LONGTITUDE': '103.8540683'},\n  {'SEARCHVAL': 'RAFFLES HOTEL SINGAPORE',\n   'BLK_NO': '1',\n   'ROAD_NAME': 'BEACH ROAD',\n   'BUILDING': 'RAFFLES HOTEL SINGAPORE',\n   'ADDRESS': '1 BEACH ROAD RAFFLES HOTEL SINGAPORE SINGAPORE 189673',\n   'POSTAL': '189673',\n   'X': '30336.71783',\n   'Y': '30811.637260000003',\n   'LATITUDE': '1.294923928',\n   'LONGITUDE': '103.854315',\n   'LONGTITUDE': '103.854315'}]}"
     },
     "metadata": {},
     "execution_count": 10
    }
   ],
   "source": [
    "address_dict[0]"
   ]
  },
  {
   "cell_type": "code",
   "execution_count": 21,
   "metadata": {},
   "outputs": [],
   "source": [
    "import pickle as pkl\n",
    "pkl.dump(address_dict, open('address_dict_v1.pkl', 'wb'))"
   ]
  },
  {
   "cell_type": "code",
   "execution_count": 13,
   "metadata": {},
   "outputs": [
    {
     "output_type": "execute_result",
     "data": {
      "text/plain": "  blk_no                        coordinates  found  \\\n0      1         [1.303671351, 103.8644787]    3.0   \n1      1  [1.320852087, 103.93372109999999]    2.0   \n2      1          [1.277034744, 103.841261]    3.0   \n3      1  [1.327968792, 103.92271600000001]    1.0   \n4      1  [1.388546562, 103.98780450000001]    2.0   \n\n                                                full  ok                query  \\\n0  [{'SEARCHVAL': 'BEACH ROAD GARDENS', 'BLK_NO':...   1           1+BEACH+RD   \n1  [{'SEARCHVAL': 'HDB-BEDOK', 'BLK_NO': '1', 'RO...   1    1+BEDOK+STH+AVE+1   \n2  [{'SEARCHVAL': 'THE PINNACLE@DUXTON', 'BLK_NO'...   1      1+CANTONMENT+RD   \n3  [{'SEARCHVAL': 'PING YI GARDENS', 'BLK_NO': '1...   1       1+CHAI+CHEE+RD   \n4  [{'SEARCHVAL': 'HDB-CHANGI VILLAGE ROV', 'BLK_...   1  1+CHANGI+VILLAGE+RD   \n\n              street  \n0           BEACH RD  \n1    BEDOK STH AVE 1  \n2      CANTONMENT RD  \n3       CHAI CHEE RD  \n4  CHANGI VILLAGE RD  ",
      "text/html": "<div>\n<style scoped>\n    .dataframe tbody tr th:only-of-type {\n        vertical-align: middle;\n    }\n\n    .dataframe tbody tr th {\n        vertical-align: top;\n    }\n\n    .dataframe thead th {\n        text-align: right;\n    }\n</style>\n<table border=\"1\" class=\"dataframe\">\n  <thead>\n    <tr style=\"text-align: right;\">\n      <th></th>\n      <th>blk_no</th>\n      <th>coordinates</th>\n      <th>found</th>\n      <th>full</th>\n      <th>ok</th>\n      <th>query</th>\n      <th>street</th>\n    </tr>\n  </thead>\n  <tbody>\n    <tr>\n      <th>0</th>\n      <td>1</td>\n      <td>[1.303671351, 103.8644787]</td>\n      <td>3.0</td>\n      <td>[{'SEARCHVAL': 'BEACH ROAD GARDENS', 'BLK_NO':...</td>\n      <td>1</td>\n      <td>1+BEACH+RD</td>\n      <td>BEACH RD</td>\n    </tr>\n    <tr>\n      <th>1</th>\n      <td>1</td>\n      <td>[1.320852087, 103.93372109999999]</td>\n      <td>2.0</td>\n      <td>[{'SEARCHVAL': 'HDB-BEDOK', 'BLK_NO': '1', 'RO...</td>\n      <td>1</td>\n      <td>1+BEDOK+STH+AVE+1</td>\n      <td>BEDOK STH AVE 1</td>\n    </tr>\n    <tr>\n      <th>2</th>\n      <td>1</td>\n      <td>[1.277034744, 103.841261]</td>\n      <td>3.0</td>\n      <td>[{'SEARCHVAL': 'THE PINNACLE@DUXTON', 'BLK_NO'...</td>\n      <td>1</td>\n      <td>1+CANTONMENT+RD</td>\n      <td>CANTONMENT RD</td>\n    </tr>\n    <tr>\n      <th>3</th>\n      <td>1</td>\n      <td>[1.327968792, 103.92271600000001]</td>\n      <td>1.0</td>\n      <td>[{'SEARCHVAL': 'PING YI GARDENS', 'BLK_NO': '1...</td>\n      <td>1</td>\n      <td>1+CHAI+CHEE+RD</td>\n      <td>CHAI CHEE RD</td>\n    </tr>\n    <tr>\n      <th>4</th>\n      <td>1</td>\n      <td>[1.388546562, 103.98780450000001]</td>\n      <td>2.0</td>\n      <td>[{'SEARCHVAL': 'HDB-CHANGI VILLAGE ROV', 'BLK_...</td>\n      <td>1</td>\n      <td>1+CHANGI+VILLAGE+RD</td>\n      <td>CHANGI VILLAGE RD</td>\n    </tr>\n  </tbody>\n</table>\n</div>"
     },
     "metadata": {},
     "execution_count": 13
    }
   ],
   "source": [
    "add_df = pd.DataFrame(address_dict)\n",
    "add_df.head()"
   ]
  },
  {
   "cell_type": "code",
   "execution_count": 16,
   "metadata": {},
   "outputs": [],
   "source": [
    "error = list(add_df.loc[add_df['ok'] == 0, :].index.values)"
   ]
  },
  {
   "cell_type": "code",
   "execution_count": 19,
   "metadata": {
    "tags": []
   },
   "outputs": [
    {
     "output_type": "stream",
     "name": "stdout",
     "text": "exception HTTPSConnectionPool(host='developers.onemap.sg', port=443): Max retries exceeded with url: /commonapi/search?searchVal=1+ST.+GEORGE'S+RD&returnGeom=Y&getAddrDetails=Y&pageNum=1 (Caused by SSLError(SSLError(\"bad handshake: SysCallError(10060, 'WSAETIMEDOUT')\")))at record 25\nsth failed at record 66\nsth failed at record 468\nsth failed at record 843\nsth failed at record 1178\nsth failed at record 1431\nsth failed at record 1635\nsth failed at record 1837\nsth failed at record 2048\nsth failed at record 2217\nsth failed at record 2229\nat 2420\nsth failed at record 2420\nat 2520\nsth failed at record 2546\nsth failed at record 2593\nsth failed at record 2862\nsth failed at record 3103\nsth failed at record 3321\nsth failed at record 3514\nsth failed at record 3657\nsth failed at record 3665\nat 3840\nsth failed at record 3840\nsth failed at record 3848\nat 3850\nsth failed at record 3850\nat 4020\nsth failed at record 4542\nat 5760\nat 5770\nat 5780\nat 5790\nat 5990\nsth failed at record 5990\nsth failed at record 5992\nat 6690\nat 6700\nat 6710\nat 6720\nsth failed at record 7638\nat 8790\nsth failed at record 8848\nsth failed at record 10315\nsth failed at record 11127\nat 11320\nsth failed at record 11859\n"
    }
   ],
   "source": [
    "not_found = []\n",
    "for i in error:\n",
    "    if i % 10 == 0:\n",
    "        print('at ' + str(i))\n",
    "\n",
    "    try:\n",
    "        record = address_dict[i]\n",
    "        query = 'https://developers.onemap.sg/commonapi/search?searchVal={0}&returnGeom=Y&getAddrDetails=Y&pageNum=1'.format(record['query'])\n",
    "        resp = requests.get(query)\n",
    "        if resp.status_code == 200:\n",
    "            content = resp.json()\n",
    "            if content['found'] > 0:\n",
    "                record['coordinates'] = [content['results'][0]['LATITUDE'], content['results'][0]['LONGTITUDE']]\n",
    "                record['found'] = content['found']\n",
    "                record['full'] = content['results']\n",
    "                record['ok'] = 1\n",
    "                continue\n",
    "        \n",
    "        not_found.append(i)\n",
    "        print('sth failed at record ' + str(i))\n",
    "        record['ok'] = 0\n",
    "\n",
    "    except Exception as e:\n",
    "        print('exception ' + str(e) + 'at record ' + str(i))\n",
    "        record['ok'] = 0\n",
    "    \n",
    "    time.sleep(0.08)"
   ]
  },
  {
   "cell_type": "code",
   "execution_count": 20,
   "metadata": {},
   "outputs": [
    {
     "output_type": "execute_result",
     "data": {
      "text/plain": "31"
     },
     "metadata": {},
     "execution_count": 20
    }
   ],
   "source": [
    "add_df2 = pd.DataFrame(address_dict)\n",
    "len(add_df2.loc[add_df2['ok'] == 0, :])"
   ]
  },
  {
   "cell_type": "code",
   "execution_count": 31,
   "metadata": {},
   "outputs": [],
   "source": [
    "error = list(add_df2.loc[add_df2['ok'] == 0, :].index.values)"
   ]
  },
  {
   "cell_type": "code",
   "execution_count": 24,
   "metadata": {},
   "outputs": [
    {
     "output_type": "execute_result",
     "data": {
      "text/plain": "      blk_no coordinates  found full  ok                  query  \\\n25         1         NaN    NaN  NaN   0      1+ST.+GEORGE'S+RD   \n66        10         NaN    NaN  NaN   0     10+ST.+GEORGE'S+RD   \n468       11         NaN    NaN  NaN   0     11+ST.+GEORGE'S+RD   \n843       12         NaN    NaN  NaN   0     12+ST.+GEORGE'S+RD   \n1178      13         NaN    NaN  NaN   0     13+ST.+GEORGE'S+RD   \n1431      14         NaN    NaN  NaN   0     14+ST.+GEORGE'S+RD   \n1635      15         NaN    NaN  NaN   0     15+ST.+GEORGE'S+RD   \n1837      16         NaN    NaN  NaN   0     16+ST.+GEORGE'S+RD   \n2048      17         NaN    NaN  NaN   0     17+ST.+GEORGE'S+RD   \n2217      18         NaN    NaN  NaN   0     18+ST.+GEORGE'S+RD   \n2229     18A         NaN    NaN  NaN   0    18A+ST.+GEORGE'S+RD   \n2420      19         NaN    NaN  NaN   0     19+ST.+GEORGE'S+RD   \n2546       2         NaN    NaN  NaN   0      2+ST.+GEORGE'S+RD   \n2593      20         NaN    NaN  NaN   0     20+ST.+GEORGE'S+RD   \n2862      21         NaN    NaN  NaN   0     21+ST.+GEORGE'S+RD   \n3103      22         NaN    NaN  NaN   0     22+ST.+GEORGE'S+RD   \n3321      23         NaN    NaN  NaN   0     23+ST.+GEORGE'S+RD   \n3514      24         NaN    NaN  NaN   0   24+ST.+GEORGE'S+LANE   \n3657      25         NaN    NaN  NaN   0   25+ST.+GEORGE'S+LANE   \n3665     25A         NaN    NaN  NaN   0  25A+ST.+GEORGE'S+LANE   \n3840      26         NaN    NaN  NaN   0   26+ST.+GEORGE'S+LANE   \n3848     26A         NaN    NaN  NaN   0  26A+ST.+GEORGE'S+LANE   \n3850     26B         NaN    NaN  NaN   0  26B+ST.+GEORGE'S+LANE   \n4542       3         NaN    NaN  NaN   0      3+ST.+GEORGE'S+RD   \n5990      4A         NaN    NaN  NaN   0   4A+ST.+GEORGE'S+LANE   \n5992      4B         NaN    NaN  NaN   0   4B+ST.+GEORGE'S+LANE   \n7638       5         NaN    NaN  NaN   0    5+ST.+GEORGE'S+LANE   \n8848       6         NaN    NaN  NaN   0    6+ST.+GEORGE'S+LANE   \n10315      7         NaN    NaN  NaN   0    7+ST.+GEORGE'S+LANE   \n11127      8         NaN    NaN  NaN   0    8+ST.+GEORGE'S+LANE   \n11859      9         NaN    NaN  NaN   0      9+ST.+GEORGE'S+RD   \n\n                  street  \n25       ST. GEORGE'S RD  \n66       ST. GEORGE'S RD  \n468      ST. GEORGE'S RD  \n843      ST. GEORGE'S RD  \n1178     ST. GEORGE'S RD  \n1431     ST. GEORGE'S RD  \n1635     ST. GEORGE'S RD  \n1837     ST. GEORGE'S RD  \n2048     ST. GEORGE'S RD  \n2217     ST. GEORGE'S RD  \n2229     ST. GEORGE'S RD  \n2420     ST. GEORGE'S RD  \n2546     ST. GEORGE'S RD  \n2593     ST. GEORGE'S RD  \n2862     ST. GEORGE'S RD  \n3103     ST. GEORGE'S RD  \n3321     ST. GEORGE'S RD  \n3514   ST. GEORGE'S LANE  \n3657   ST. GEORGE'S LANE  \n3665   ST. GEORGE'S LANE  \n3840   ST. GEORGE'S LANE  \n3848   ST. GEORGE'S LANE  \n3850   ST. GEORGE'S LANE  \n4542     ST. GEORGE'S RD  \n5990   ST. GEORGE'S LANE  \n5992   ST. GEORGE'S LANE  \n7638   ST. GEORGE'S LANE  \n8848   ST. GEORGE'S LANE  \n10315  ST. GEORGE'S LANE  \n11127  ST. GEORGE'S LANE  \n11859    ST. GEORGE'S RD  ",
      "text/html": "<div>\n<style scoped>\n    .dataframe tbody tr th:only-of-type {\n        vertical-align: middle;\n    }\n\n    .dataframe tbody tr th {\n        vertical-align: top;\n    }\n\n    .dataframe thead th {\n        text-align: right;\n    }\n</style>\n<table border=\"1\" class=\"dataframe\">\n  <thead>\n    <tr style=\"text-align: right;\">\n      <th></th>\n      <th>blk_no</th>\n      <th>coordinates</th>\n      <th>found</th>\n      <th>full</th>\n      <th>ok</th>\n      <th>query</th>\n      <th>street</th>\n    </tr>\n  </thead>\n  <tbody>\n    <tr>\n      <th>25</th>\n      <td>1</td>\n      <td>NaN</td>\n      <td>NaN</td>\n      <td>NaN</td>\n      <td>0</td>\n      <td>1+ST.+GEORGE'S+RD</td>\n      <td>ST. GEORGE'S RD</td>\n    </tr>\n    <tr>\n      <th>66</th>\n      <td>10</td>\n      <td>NaN</td>\n      <td>NaN</td>\n      <td>NaN</td>\n      <td>0</td>\n      <td>10+ST.+GEORGE'S+RD</td>\n      <td>ST. GEORGE'S RD</td>\n    </tr>\n    <tr>\n      <th>468</th>\n      <td>11</td>\n      <td>NaN</td>\n      <td>NaN</td>\n      <td>NaN</td>\n      <td>0</td>\n      <td>11+ST.+GEORGE'S+RD</td>\n      <td>ST. GEORGE'S RD</td>\n    </tr>\n    <tr>\n      <th>843</th>\n      <td>12</td>\n      <td>NaN</td>\n      <td>NaN</td>\n      <td>NaN</td>\n      <td>0</td>\n      <td>12+ST.+GEORGE'S+RD</td>\n      <td>ST. GEORGE'S RD</td>\n    </tr>\n    <tr>\n      <th>1178</th>\n      <td>13</td>\n      <td>NaN</td>\n      <td>NaN</td>\n      <td>NaN</td>\n      <td>0</td>\n      <td>13+ST.+GEORGE'S+RD</td>\n      <td>ST. GEORGE'S RD</td>\n    </tr>\n    <tr>\n      <th>1431</th>\n      <td>14</td>\n      <td>NaN</td>\n      <td>NaN</td>\n      <td>NaN</td>\n      <td>0</td>\n      <td>14+ST.+GEORGE'S+RD</td>\n      <td>ST. GEORGE'S RD</td>\n    </tr>\n    <tr>\n      <th>1635</th>\n      <td>15</td>\n      <td>NaN</td>\n      <td>NaN</td>\n      <td>NaN</td>\n      <td>0</td>\n      <td>15+ST.+GEORGE'S+RD</td>\n      <td>ST. GEORGE'S RD</td>\n    </tr>\n    <tr>\n      <th>1837</th>\n      <td>16</td>\n      <td>NaN</td>\n      <td>NaN</td>\n      <td>NaN</td>\n      <td>0</td>\n      <td>16+ST.+GEORGE'S+RD</td>\n      <td>ST. GEORGE'S RD</td>\n    </tr>\n    <tr>\n      <th>2048</th>\n      <td>17</td>\n      <td>NaN</td>\n      <td>NaN</td>\n      <td>NaN</td>\n      <td>0</td>\n      <td>17+ST.+GEORGE'S+RD</td>\n      <td>ST. GEORGE'S RD</td>\n    </tr>\n    <tr>\n      <th>2217</th>\n      <td>18</td>\n      <td>NaN</td>\n      <td>NaN</td>\n      <td>NaN</td>\n      <td>0</td>\n      <td>18+ST.+GEORGE'S+RD</td>\n      <td>ST. GEORGE'S RD</td>\n    </tr>\n    <tr>\n      <th>2229</th>\n      <td>18A</td>\n      <td>NaN</td>\n      <td>NaN</td>\n      <td>NaN</td>\n      <td>0</td>\n      <td>18A+ST.+GEORGE'S+RD</td>\n      <td>ST. GEORGE'S RD</td>\n    </tr>\n    <tr>\n      <th>2420</th>\n      <td>19</td>\n      <td>NaN</td>\n      <td>NaN</td>\n      <td>NaN</td>\n      <td>0</td>\n      <td>19+ST.+GEORGE'S+RD</td>\n      <td>ST. GEORGE'S RD</td>\n    </tr>\n    <tr>\n      <th>2546</th>\n      <td>2</td>\n      <td>NaN</td>\n      <td>NaN</td>\n      <td>NaN</td>\n      <td>0</td>\n      <td>2+ST.+GEORGE'S+RD</td>\n      <td>ST. GEORGE'S RD</td>\n    </tr>\n    <tr>\n      <th>2593</th>\n      <td>20</td>\n      <td>NaN</td>\n      <td>NaN</td>\n      <td>NaN</td>\n      <td>0</td>\n      <td>20+ST.+GEORGE'S+RD</td>\n      <td>ST. GEORGE'S RD</td>\n    </tr>\n    <tr>\n      <th>2862</th>\n      <td>21</td>\n      <td>NaN</td>\n      <td>NaN</td>\n      <td>NaN</td>\n      <td>0</td>\n      <td>21+ST.+GEORGE'S+RD</td>\n      <td>ST. GEORGE'S RD</td>\n    </tr>\n    <tr>\n      <th>3103</th>\n      <td>22</td>\n      <td>NaN</td>\n      <td>NaN</td>\n      <td>NaN</td>\n      <td>0</td>\n      <td>22+ST.+GEORGE'S+RD</td>\n      <td>ST. GEORGE'S RD</td>\n    </tr>\n    <tr>\n      <th>3321</th>\n      <td>23</td>\n      <td>NaN</td>\n      <td>NaN</td>\n      <td>NaN</td>\n      <td>0</td>\n      <td>23+ST.+GEORGE'S+RD</td>\n      <td>ST. GEORGE'S RD</td>\n    </tr>\n    <tr>\n      <th>3514</th>\n      <td>24</td>\n      <td>NaN</td>\n      <td>NaN</td>\n      <td>NaN</td>\n      <td>0</td>\n      <td>24+ST.+GEORGE'S+LANE</td>\n      <td>ST. GEORGE'S LANE</td>\n    </tr>\n    <tr>\n      <th>3657</th>\n      <td>25</td>\n      <td>NaN</td>\n      <td>NaN</td>\n      <td>NaN</td>\n      <td>0</td>\n      <td>25+ST.+GEORGE'S+LANE</td>\n      <td>ST. GEORGE'S LANE</td>\n    </tr>\n    <tr>\n      <th>3665</th>\n      <td>25A</td>\n      <td>NaN</td>\n      <td>NaN</td>\n      <td>NaN</td>\n      <td>0</td>\n      <td>25A+ST.+GEORGE'S+LANE</td>\n      <td>ST. GEORGE'S LANE</td>\n    </tr>\n    <tr>\n      <th>3840</th>\n      <td>26</td>\n      <td>NaN</td>\n      <td>NaN</td>\n      <td>NaN</td>\n      <td>0</td>\n      <td>26+ST.+GEORGE'S+LANE</td>\n      <td>ST. GEORGE'S LANE</td>\n    </tr>\n    <tr>\n      <th>3848</th>\n      <td>26A</td>\n      <td>NaN</td>\n      <td>NaN</td>\n      <td>NaN</td>\n      <td>0</td>\n      <td>26A+ST.+GEORGE'S+LANE</td>\n      <td>ST. GEORGE'S LANE</td>\n    </tr>\n    <tr>\n      <th>3850</th>\n      <td>26B</td>\n      <td>NaN</td>\n      <td>NaN</td>\n      <td>NaN</td>\n      <td>0</td>\n      <td>26B+ST.+GEORGE'S+LANE</td>\n      <td>ST. GEORGE'S LANE</td>\n    </tr>\n    <tr>\n      <th>4542</th>\n      <td>3</td>\n      <td>NaN</td>\n      <td>NaN</td>\n      <td>NaN</td>\n      <td>0</td>\n      <td>3+ST.+GEORGE'S+RD</td>\n      <td>ST. GEORGE'S RD</td>\n    </tr>\n    <tr>\n      <th>5990</th>\n      <td>4A</td>\n      <td>NaN</td>\n      <td>NaN</td>\n      <td>NaN</td>\n      <td>0</td>\n      <td>4A+ST.+GEORGE'S+LANE</td>\n      <td>ST. GEORGE'S LANE</td>\n    </tr>\n    <tr>\n      <th>5992</th>\n      <td>4B</td>\n      <td>NaN</td>\n      <td>NaN</td>\n      <td>NaN</td>\n      <td>0</td>\n      <td>4B+ST.+GEORGE'S+LANE</td>\n      <td>ST. GEORGE'S LANE</td>\n    </tr>\n    <tr>\n      <th>7638</th>\n      <td>5</td>\n      <td>NaN</td>\n      <td>NaN</td>\n      <td>NaN</td>\n      <td>0</td>\n      <td>5+ST.+GEORGE'S+LANE</td>\n      <td>ST. GEORGE'S LANE</td>\n    </tr>\n    <tr>\n      <th>8848</th>\n      <td>6</td>\n      <td>NaN</td>\n      <td>NaN</td>\n      <td>NaN</td>\n      <td>0</td>\n      <td>6+ST.+GEORGE'S+LANE</td>\n      <td>ST. GEORGE'S LANE</td>\n    </tr>\n    <tr>\n      <th>10315</th>\n      <td>7</td>\n      <td>NaN</td>\n      <td>NaN</td>\n      <td>NaN</td>\n      <td>0</td>\n      <td>7+ST.+GEORGE'S+LANE</td>\n      <td>ST. GEORGE'S LANE</td>\n    </tr>\n    <tr>\n      <th>11127</th>\n      <td>8</td>\n      <td>NaN</td>\n      <td>NaN</td>\n      <td>NaN</td>\n      <td>0</td>\n      <td>8+ST.+GEORGE'S+LANE</td>\n      <td>ST. GEORGE'S LANE</td>\n    </tr>\n    <tr>\n      <th>11859</th>\n      <td>9</td>\n      <td>NaN</td>\n      <td>NaN</td>\n      <td>NaN</td>\n      <td>0</td>\n      <td>9+ST.+GEORGE'S+RD</td>\n      <td>ST. GEORGE'S RD</td>\n    </tr>\n  </tbody>\n</table>\n</div>"
     },
     "metadata": {},
     "execution_count": 24
    }
   ],
   "source": [
    "add_df2.loc[add_df2['ok'] == 0, :]"
   ]
  },
  {
   "cell_type": "code",
   "execution_count": 33,
   "metadata": {},
   "outputs": [],
   "source": [
    "for i in error:\n",
    "    try:\n",
    "        record = address_dict[i]\n",
    "        rec_query = re.sub(\"[.']\", '', record['query'])\n",
    "        rec_query += \",+Singapore\"\n",
    "        query = 'https://maps.googleapis.com/maps/api/geocode/json?address={0}&key='.format(rec_query)\n",
    "        resp = requests.get(query)\n",
    "        if resp.status_code == 200:\n",
    "            content = resp.json()\n",
    "            if len(content['results']) > 0:\n",
    "                coordinates = content['results'][0]['geometry']['location']\n",
    "                record['coordinates'] = [coordinates['lat'], coordinates['lng']]\n",
    "                record['found'] = len(content['results'])\n",
    "                record['full'] = content['results']\n",
    "                record['ok'] = 1\n",
    "                continue\n",
    "        \n",
    "        print('sth failed at record ' + str(i))\n",
    "        record['ok'] = 0\n",
    "\n",
    "    except Exception as e:\n",
    "        print('exception ' + str(e) + 'at record ' + str(i))\n",
    "        record['ok'] = 0\n",
    "    \n",
    "    time.sleep(0.08)"
   ]
  },
  {
   "cell_type": "code",
   "execution_count": 34,
   "metadata": {},
   "outputs": [
    {
     "output_type": "execute_result",
     "data": {
      "text/plain": "0"
     },
     "metadata": {},
     "execution_count": 34
    }
   ],
   "source": [
    "add = pd.DataFrame(address_dict)\n",
    "len(add.loc[add['ok'] == 0, :])"
   ]
  },
  {
   "cell_type": "code",
   "execution_count": 35,
   "metadata": {},
   "outputs": [
    {
     "output_type": "execute_result",
     "data": {
      "text/plain": "  blk_no                        coordinates  found  \\\n0      1         [1.303671351, 103.8644787]      3   \n1      1  [1.320852087, 103.93372109999999]      2   \n2      1          [1.277034744, 103.841261]      3   \n3      1  [1.327968792, 103.92271600000001]      1   \n4      1  [1.388546562, 103.98780450000001]      2   \n\n                                                full  ok                query  \\\n0  [{'SEARCHVAL': 'BEACH ROAD GARDENS', 'BLK_NO':...   1           1+BEACH+RD   \n1  [{'SEARCHVAL': 'HDB-BEDOK', 'BLK_NO': '1', 'RO...   1    1+BEDOK+STH+AVE+1   \n2  [{'SEARCHVAL': 'THE PINNACLE@DUXTON', 'BLK_NO'...   1      1+CANTONMENT+RD   \n3  [{'SEARCHVAL': 'PING YI GARDENS', 'BLK_NO': '1...   1       1+CHAI+CHEE+RD   \n4  [{'SEARCHVAL': 'HDB-CHANGI VILLAGE ROV', 'BLK_...   1  1+CHANGI+VILLAGE+RD   \n\n              street  \n0           BEACH RD  \n1    BEDOK STH AVE 1  \n2      CANTONMENT RD  \n3       CHAI CHEE RD  \n4  CHANGI VILLAGE RD  ",
      "text/html": "<div>\n<style scoped>\n    .dataframe tbody tr th:only-of-type {\n        vertical-align: middle;\n    }\n\n    .dataframe tbody tr th {\n        vertical-align: top;\n    }\n\n    .dataframe thead th {\n        text-align: right;\n    }\n</style>\n<table border=\"1\" class=\"dataframe\">\n  <thead>\n    <tr style=\"text-align: right;\">\n      <th></th>\n      <th>blk_no</th>\n      <th>coordinates</th>\n      <th>found</th>\n      <th>full</th>\n      <th>ok</th>\n      <th>query</th>\n      <th>street</th>\n    </tr>\n  </thead>\n  <tbody>\n    <tr>\n      <th>0</th>\n      <td>1</td>\n      <td>[1.303671351, 103.8644787]</td>\n      <td>3</td>\n      <td>[{'SEARCHVAL': 'BEACH ROAD GARDENS', 'BLK_NO':...</td>\n      <td>1</td>\n      <td>1+BEACH+RD</td>\n      <td>BEACH RD</td>\n    </tr>\n    <tr>\n      <th>1</th>\n      <td>1</td>\n      <td>[1.320852087, 103.93372109999999]</td>\n      <td>2</td>\n      <td>[{'SEARCHVAL': 'HDB-BEDOK', 'BLK_NO': '1', 'RO...</td>\n      <td>1</td>\n      <td>1+BEDOK+STH+AVE+1</td>\n      <td>BEDOK STH AVE 1</td>\n    </tr>\n    <tr>\n      <th>2</th>\n      <td>1</td>\n      <td>[1.277034744, 103.841261]</td>\n      <td>3</td>\n      <td>[{'SEARCHVAL': 'THE PINNACLE@DUXTON', 'BLK_NO'...</td>\n      <td>1</td>\n      <td>1+CANTONMENT+RD</td>\n      <td>CANTONMENT RD</td>\n    </tr>\n    <tr>\n      <th>3</th>\n      <td>1</td>\n      <td>[1.327968792, 103.92271600000001]</td>\n      <td>1</td>\n      <td>[{'SEARCHVAL': 'PING YI GARDENS', 'BLK_NO': '1...</td>\n      <td>1</td>\n      <td>1+CHAI+CHEE+RD</td>\n      <td>CHAI CHEE RD</td>\n    </tr>\n    <tr>\n      <th>4</th>\n      <td>1</td>\n      <td>[1.388546562, 103.98780450000001]</td>\n      <td>2</td>\n      <td>[{'SEARCHVAL': 'HDB-CHANGI VILLAGE ROV', 'BLK_...</td>\n      <td>1</td>\n      <td>1+CHANGI+VILLAGE+RD</td>\n      <td>CHANGI VILLAGE RD</td>\n    </tr>\n  </tbody>\n</table>\n</div>"
     },
     "metadata": {},
     "execution_count": 35
    }
   ],
   "source": [
    "add.head()"
   ]
  },
  {
   "cell_type": "code",
   "execution_count": 36,
   "metadata": {},
   "outputs": [],
   "source": [
    "pkl.dump(address_dict, open('address_dict_v1.pkl', 'wb'))"
   ]
  },
  {
   "cell_type": "markdown",
   "metadata": {},
   "source": [
    "## Validation"
   ]
  },
  {
   "cell_type": "code",
   "execution_count": 49,
   "metadata": {},
   "outputs": [],
   "source": [
    "def get_add(add_list):\n",
    "    first_rec = add_list[0]\n",
    "    if 'SEARCHVAL' in first_rec.keys():\n",
    "        add = \"{0}+{1}\".format(first_rec['BLK_NO'], first_rec['ROAD_NAME'])\n",
    "        add = re.sub(' ', '+', add)\n",
    "        return add\n",
    "    \n",
    "    add = \"{0}+{1}\".format(first_rec['address_components'][0]['long_name'], first_rec['address_components'][2]['long_name'])\n",
    "    return add"
   ]
  },
  {
   "cell_type": "code",
   "execution_count": 50,
   "metadata": {},
   "outputs": [],
   "source": [
    "add['first_add'] = [get_add(addresses) for addresses in add['full']]"
   ]
  },
  {
   "cell_type": "code",
   "execution_count": 51,
   "metadata": {},
   "outputs": [
    {
     "output_type": "execute_result",
     "data": {
      "text/plain": "  blk_no                        coordinates  found  \\\n0      1         [1.303671351, 103.8644787]      3   \n1      1  [1.320852087, 103.93372109999999]      2   \n2      1          [1.277034744, 103.841261]      3   \n3      1  [1.327968792, 103.92271600000001]      1   \n4      1  [1.388546562, 103.98780450000001]      2   \n\n                                                full  ok                query  \\\n0  [{'SEARCHVAL': 'BEACH ROAD GARDENS', 'BLK_NO':...   1           1+BEACH+RD   \n1  [{'SEARCHVAL': 'HDB-BEDOK', 'BLK_NO': '1', 'RO...   1    1+BEDOK+STH+AVE+1   \n2  [{'SEARCHVAL': 'THE PINNACLE@DUXTON', 'BLK_NO'...   1      1+CANTONMENT+RD   \n3  [{'SEARCHVAL': 'PING YI GARDENS', 'BLK_NO': '1...   1       1+CHAI+CHEE+RD   \n4  [{'SEARCHVAL': 'HDB-CHANGI VILLAGE ROV', 'BLK_...   1  1+CHANGI+VILLAGE+RD   \n\n              street               first_add      diff  \n0           BEACH RD            1+BEACH+ROAD  0.909091  \n1    BEDOK STH AVE 1  1+BEDOK+SOUTH+AVENUE+1  0.871795  \n2      CANTONMENT RD       1+CANTONMENT+ROAD  0.937500  \n3       CHAI CHEE RD        1+CHAI+CHEE+ROAD  0.933333  \n4  CHANGI VILLAGE RD   1+CHANGI+VILLAGE+ROAD  0.950000  ",
      "text/html": "<div>\n<style scoped>\n    .dataframe tbody tr th:only-of-type {\n        vertical-align: middle;\n    }\n\n    .dataframe tbody tr th {\n        vertical-align: top;\n    }\n\n    .dataframe thead th {\n        text-align: right;\n    }\n</style>\n<table border=\"1\" class=\"dataframe\">\n  <thead>\n    <tr style=\"text-align: right;\">\n      <th></th>\n      <th>blk_no</th>\n      <th>coordinates</th>\n      <th>found</th>\n      <th>full</th>\n      <th>ok</th>\n      <th>query</th>\n      <th>street</th>\n      <th>first_add</th>\n      <th>diff</th>\n    </tr>\n  </thead>\n  <tbody>\n    <tr>\n      <th>0</th>\n      <td>1</td>\n      <td>[1.303671351, 103.8644787]</td>\n      <td>3</td>\n      <td>[{'SEARCHVAL': 'BEACH ROAD GARDENS', 'BLK_NO':...</td>\n      <td>1</td>\n      <td>1+BEACH+RD</td>\n      <td>BEACH RD</td>\n      <td>1+BEACH+ROAD</td>\n      <td>0.909091</td>\n    </tr>\n    <tr>\n      <th>1</th>\n      <td>1</td>\n      <td>[1.320852087, 103.93372109999999]</td>\n      <td>2</td>\n      <td>[{'SEARCHVAL': 'HDB-BEDOK', 'BLK_NO': '1', 'RO...</td>\n      <td>1</td>\n      <td>1+BEDOK+STH+AVE+1</td>\n      <td>BEDOK STH AVE 1</td>\n      <td>1+BEDOK+SOUTH+AVENUE+1</td>\n      <td>0.871795</td>\n    </tr>\n    <tr>\n      <th>2</th>\n      <td>1</td>\n      <td>[1.277034744, 103.841261]</td>\n      <td>3</td>\n      <td>[{'SEARCHVAL': 'THE PINNACLE@DUXTON', 'BLK_NO'...</td>\n      <td>1</td>\n      <td>1+CANTONMENT+RD</td>\n      <td>CANTONMENT RD</td>\n      <td>1+CANTONMENT+ROAD</td>\n      <td>0.937500</td>\n    </tr>\n    <tr>\n      <th>3</th>\n      <td>1</td>\n      <td>[1.327968792, 103.92271600000001]</td>\n      <td>1</td>\n      <td>[{'SEARCHVAL': 'PING YI GARDENS', 'BLK_NO': '1...</td>\n      <td>1</td>\n      <td>1+CHAI+CHEE+RD</td>\n      <td>CHAI CHEE RD</td>\n      <td>1+CHAI+CHEE+ROAD</td>\n      <td>0.933333</td>\n    </tr>\n    <tr>\n      <th>4</th>\n      <td>1</td>\n      <td>[1.388546562, 103.98780450000001]</td>\n      <td>2</td>\n      <td>[{'SEARCHVAL': 'HDB-CHANGI VILLAGE ROV', 'BLK_...</td>\n      <td>1</td>\n      <td>1+CHANGI+VILLAGE+RD</td>\n      <td>CHANGI VILLAGE RD</td>\n      <td>1+CHANGI+VILLAGE+ROAD</td>\n      <td>0.950000</td>\n    </tr>\n  </tbody>\n</table>\n</div>"
     },
     "metadata": {},
     "execution_count": 51
    }
   ],
   "source": [
    "add.head()"
   ]
  },
  {
   "cell_type": "code",
   "execution_count": 41,
   "metadata": {},
   "outputs": [],
   "source": [
    "from difflib import SequenceMatcher\n",
    "\n",
    "def similar(a, b):\n",
    "    return SequenceMatcher(None, a, b).ratio()\n"
   ]
  },
  {
   "cell_type": "code",
   "execution_count": 52,
   "metadata": {},
   "outputs": [],
   "source": [
    "add['diff'] = add.apply(lambda row: similar(row['query'], row['first_add']), axis=1)"
   ]
  },
  {
   "cell_type": "code",
   "execution_count": 53,
   "metadata": {},
   "outputs": [
    {
     "output_type": "execute_result",
     "data": {
      "text/plain": "count    12267.000000\nmean         0.917533\nstd          0.050986\nmin          0.153846\n25%          0.900000\n50%          0.918919\n75%          0.933333\nmax          1.000000\nName: diff, dtype: float64"
     },
     "metadata": {},
     "execution_count": 53
    }
   ],
   "source": [
    "add['diff'].describe()"
   ]
  },
  {
   "cell_type": "code",
   "execution_count": 46,
   "metadata": {},
   "outputs": [],
   "source": [
    "error_add = add[add['diff'] < 0.9]"
   ]
  },
  {
   "cell_type": "code",
   "execution_count": 56,
   "metadata": {},
   "outputs": [
    {
     "output_type": "execute_result",
     "data": {
      "text/plain": "[{'SEARCHVAL': 'BLK 216 AND 215 CHOA CHU KANG CENTRAL',\n  'BLK_NO': '',\n  'ROAD_NAME': 'NIL',\n  'BUILDING': 'BLK 216 AND 215 CHOA CHU KANG CENTRAL',\n  'ADDRESS': 'BLK 216 AND 215 CHOA CHU KANG CENTRAL',\n  'POSTAL': 'NIL',\n  'X': '18402.36455',\n  'Y': '40559.98376',\n  'LATITUDE': '1.383083024',\n  'LONGITUDE': '103.7470766',\n  'LONGTITUDE': '103.7470766'},\n {'SEARCHVAL': 'HDB-CHOA CHU KANG',\n  'BLK_NO': '215',\n  'ROAD_NAME': 'CHOA CHU KANG CENTRAL',\n  'BUILDING': 'HDB-CHOA CHU KANG',\n  'ADDRESS': '215 CHOA CHU KANG CENTRAL HDB-CHOA CHU KANG SINGAPORE 680215',\n  'POSTAL': '680215',\n  'X': '18407.291240000002',\n  'Y': '40539.04137',\n  'LATITUDE': '1.382893631',\n  'LONGITUDE': '103.7471209',\n  'LONGTITUDE': '103.7471209'},\n {'SEARCHVAL': '215 CHOA CHU KANG CENTRAL',\n  'BLK_NO': '215',\n  'ROAD_NAME': 'CHOA CHU KANG CENTRAL',\n  'BUILDING': 'NIL',\n  'ADDRESS': '215 CHOA CHU KANG CENTRAL',\n  'POSTAL': 'NIL',\n  'X': '18412.05375',\n  'Y': '40536.27394',\n  'LATITUDE': '1.382868605',\n  'LONGITUDE': '103.7471637',\n  'LONGTITUDE': '103.7471637'},\n {'SEARCHVAL': 'HDB PUBLIC SHELTERS',\n  'BLK_NO': '215',\n  'ROAD_NAME': 'CHOA CHU KANG CENTRAL',\n  'BUILDING': 'HDB PUBLIC SHELTERS',\n  'ADDRESS': '215 CHOA CHU KANG CENTRAL HDB PUBLIC SHELTERS SINGAPORE 680215',\n  'POSTAL': '680215',\n  'X': '18407.76345',\n  'Y': '40538.83137',\n  'LATITUDE': '1.3828917319999998',\n  'LONGITUDE': '103.74712509999999',\n  'LONGTITUDE': '103.74712509999999'}]"
     },
     "metadata": {},
     "execution_count": 56
    }
   ],
   "source": [
    "add['full'][2986]"
   ]
  },
  {
   "cell_type": "code",
   "execution_count": 57,
   "metadata": {},
   "outputs": [],
   "source": [
    "add['lat'] = [coord[0] for coord in add['coordinates']]\n",
    "add['lng'] = [coord[1] for coord in add['coordinates']]"
   ]
  },
  {
   "cell_type": "code",
   "execution_count": 58,
   "metadata": {},
   "outputs": [
    {
     "output_type": "execute_result",
     "data": {
      "text/plain": "  blk_no                        coordinates  found  \\\n0      1         [1.303671351, 103.8644787]      3   \n1      1  [1.320852087, 103.93372109999999]      2   \n2      1          [1.277034744, 103.841261]      3   \n3      1  [1.327968792, 103.92271600000001]      1   \n4      1  [1.388546562, 103.98780450000001]      2   \n\n                                                full  ok                query  \\\n0  [{'SEARCHVAL': 'BEACH ROAD GARDENS', 'BLK_NO':...   1           1+BEACH+RD   \n1  [{'SEARCHVAL': 'HDB-BEDOK', 'BLK_NO': '1', 'RO...   1    1+BEDOK+STH+AVE+1   \n2  [{'SEARCHVAL': 'THE PINNACLE@DUXTON', 'BLK_NO'...   1      1+CANTONMENT+RD   \n3  [{'SEARCHVAL': 'PING YI GARDENS', 'BLK_NO': '1...   1       1+CHAI+CHEE+RD   \n4  [{'SEARCHVAL': 'HDB-CHANGI VILLAGE ROV', 'BLK_...   1  1+CHANGI+VILLAGE+RD   \n\n              street               first_add      diff          lat  \\\n0           BEACH RD            1+BEACH+ROAD  0.909091  1.303671351   \n1    BEDOK STH AVE 1  1+BEDOK+SOUTH+AVENUE+1  0.871795  1.320852087   \n2      CANTONMENT RD       1+CANTONMENT+ROAD  0.937500  1.277034744   \n3       CHAI CHEE RD        1+CHAI+CHEE+ROAD  0.933333  1.327968792   \n4  CHANGI VILLAGE RD   1+CHANGI+VILLAGE+ROAD  0.950000  1.388546562   \n\n                  lng  \n0         103.8644787  \n1  103.93372109999999  \n2          103.841261  \n3  103.92271600000001  \n4  103.98780450000001  ",
      "text/html": "<div>\n<style scoped>\n    .dataframe tbody tr th:only-of-type {\n        vertical-align: middle;\n    }\n\n    .dataframe tbody tr th {\n        vertical-align: top;\n    }\n\n    .dataframe thead th {\n        text-align: right;\n    }\n</style>\n<table border=\"1\" class=\"dataframe\">\n  <thead>\n    <tr style=\"text-align: right;\">\n      <th></th>\n      <th>blk_no</th>\n      <th>coordinates</th>\n      <th>found</th>\n      <th>full</th>\n      <th>ok</th>\n      <th>query</th>\n      <th>street</th>\n      <th>first_add</th>\n      <th>diff</th>\n      <th>lat</th>\n      <th>lng</th>\n    </tr>\n  </thead>\n  <tbody>\n    <tr>\n      <th>0</th>\n      <td>1</td>\n      <td>[1.303671351, 103.8644787]</td>\n      <td>3</td>\n      <td>[{'SEARCHVAL': 'BEACH ROAD GARDENS', 'BLK_NO':...</td>\n      <td>1</td>\n      <td>1+BEACH+RD</td>\n      <td>BEACH RD</td>\n      <td>1+BEACH+ROAD</td>\n      <td>0.909091</td>\n      <td>1.303671351</td>\n      <td>103.8644787</td>\n    </tr>\n    <tr>\n      <th>1</th>\n      <td>1</td>\n      <td>[1.320852087, 103.93372109999999]</td>\n      <td>2</td>\n      <td>[{'SEARCHVAL': 'HDB-BEDOK', 'BLK_NO': '1', 'RO...</td>\n      <td>1</td>\n      <td>1+BEDOK+STH+AVE+1</td>\n      <td>BEDOK STH AVE 1</td>\n      <td>1+BEDOK+SOUTH+AVENUE+1</td>\n      <td>0.871795</td>\n      <td>1.320852087</td>\n      <td>103.93372109999999</td>\n    </tr>\n    <tr>\n      <th>2</th>\n      <td>1</td>\n      <td>[1.277034744, 103.841261]</td>\n      <td>3</td>\n      <td>[{'SEARCHVAL': 'THE PINNACLE@DUXTON', 'BLK_NO'...</td>\n      <td>1</td>\n      <td>1+CANTONMENT+RD</td>\n      <td>CANTONMENT RD</td>\n      <td>1+CANTONMENT+ROAD</td>\n      <td>0.937500</td>\n      <td>1.277034744</td>\n      <td>103.841261</td>\n    </tr>\n    <tr>\n      <th>3</th>\n      <td>1</td>\n      <td>[1.327968792, 103.92271600000001]</td>\n      <td>1</td>\n      <td>[{'SEARCHVAL': 'PING YI GARDENS', 'BLK_NO': '1...</td>\n      <td>1</td>\n      <td>1+CHAI+CHEE+RD</td>\n      <td>CHAI CHEE RD</td>\n      <td>1+CHAI+CHEE+ROAD</td>\n      <td>0.933333</td>\n      <td>1.327968792</td>\n      <td>103.92271600000001</td>\n    </tr>\n    <tr>\n      <th>4</th>\n      <td>1</td>\n      <td>[1.388546562, 103.98780450000001]</td>\n      <td>2</td>\n      <td>[{'SEARCHVAL': 'HDB-CHANGI VILLAGE ROV', 'BLK_...</td>\n      <td>1</td>\n      <td>1+CHANGI+VILLAGE+RD</td>\n      <td>CHANGI VILLAGE RD</td>\n      <td>1+CHANGI+VILLAGE+ROAD</td>\n      <td>0.950000</td>\n      <td>1.388546562</td>\n      <td>103.98780450000001</td>\n    </tr>\n  </tbody>\n</table>\n</div>"
     },
     "metadata": {},
     "execution_count": 58
    }
   ],
   "source": [
    "add.head()"
   ]
  },
  {
   "cell_type": "code",
   "execution_count": 59,
   "metadata": {},
   "outputs": [],
   "source": [
    "add_dict_df = add.loc[:, ['blk_no', 'street', 'lat', 'lng']]"
   ]
  },
  {
   "cell_type": "code",
   "execution_count": 61,
   "metadata": {
    "tags": []
   },
   "outputs": [
    {
     "output_type": "stream",
     "name": "stdout",
     "text": "12267\n12267\n"
    }
   ],
   "source": [
    "print(len(hdb))\n",
    "hdb_join = hdb.merge(add_dict_df, how='inner', on=['blk_no', 'street'], validate='one_to_one')\n",
    "print(len(hdb_join))"
   ]
  },
  {
   "cell_type": "code",
   "execution_count": 62,
   "metadata": {},
   "outputs": [
    {
     "output_type": "execute_result",
     "data": {
      "text/plain": "  blk_no             street  max_floor_lvl  year_completed residential  \\\n0      1           BEACH RD             16            1970           Y   \n1      1    BEDOK STH AVE 1             14            1975           Y   \n2      1      CANTONMENT RD              2            2010           N   \n3      1       CHAI CHEE RD             15            1982           Y   \n4      1  CHANGI VILLAGE RD              4            1975           Y   \n\n  commercial market_hawker miscellaneous multistorey_carpark  \\\n0          Y             N             N                   N   \n1          N             N             Y                   N   \n2          Y             N             N                   N   \n3          N             N             N                   N   \n4          Y             N             N                   N   \n\n  precinct_pavilion  ... 5room_sold  exec_sold  multigen_sold  \\\n0                 N  ...          2          0              0   \n1                 N  ...          2          0              0   \n2                 N  ...          0          0              0   \n3                 N  ...         92          0              0   \n4                 N  ...          1          0              0   \n\n   studio_apartment_sold  1room_rental  2room_rental  3room_rental  \\\n0                      0             0             0             0   \n1                      0             0             0             0   \n2                      0             0             0             0   \n3                      0             0             0             0   \n4                      0             0             0             0   \n\n   other_room_rental          lat                 lng  \n0                  0  1.303671351         103.8644787  \n1                  0  1.320852087  103.93372109999999  \n2                  0  1.277034744          103.841261  \n3                  0  1.327968792  103.92271600000001  \n4                  0  1.388546562  103.98780450000001  \n\n[5 rows x 26 columns]",
      "text/html": "<div>\n<style scoped>\n    .dataframe tbody tr th:only-of-type {\n        vertical-align: middle;\n    }\n\n    .dataframe tbody tr th {\n        vertical-align: top;\n    }\n\n    .dataframe thead th {\n        text-align: right;\n    }\n</style>\n<table border=\"1\" class=\"dataframe\">\n  <thead>\n    <tr style=\"text-align: right;\">\n      <th></th>\n      <th>blk_no</th>\n      <th>street</th>\n      <th>max_floor_lvl</th>\n      <th>year_completed</th>\n      <th>residential</th>\n      <th>commercial</th>\n      <th>market_hawker</th>\n      <th>miscellaneous</th>\n      <th>multistorey_carpark</th>\n      <th>precinct_pavilion</th>\n      <th>...</th>\n      <th>5room_sold</th>\n      <th>exec_sold</th>\n      <th>multigen_sold</th>\n      <th>studio_apartment_sold</th>\n      <th>1room_rental</th>\n      <th>2room_rental</th>\n      <th>3room_rental</th>\n      <th>other_room_rental</th>\n      <th>lat</th>\n      <th>lng</th>\n    </tr>\n  </thead>\n  <tbody>\n    <tr>\n      <th>0</th>\n      <td>1</td>\n      <td>BEACH RD</td>\n      <td>16</td>\n      <td>1970</td>\n      <td>Y</td>\n      <td>Y</td>\n      <td>N</td>\n      <td>N</td>\n      <td>N</td>\n      <td>N</td>\n      <td>...</td>\n      <td>2</td>\n      <td>0</td>\n      <td>0</td>\n      <td>0</td>\n      <td>0</td>\n      <td>0</td>\n      <td>0</td>\n      <td>0</td>\n      <td>1.303671351</td>\n      <td>103.8644787</td>\n    </tr>\n    <tr>\n      <th>1</th>\n      <td>1</td>\n      <td>BEDOK STH AVE 1</td>\n      <td>14</td>\n      <td>1975</td>\n      <td>Y</td>\n      <td>N</td>\n      <td>N</td>\n      <td>Y</td>\n      <td>N</td>\n      <td>N</td>\n      <td>...</td>\n      <td>2</td>\n      <td>0</td>\n      <td>0</td>\n      <td>0</td>\n      <td>0</td>\n      <td>0</td>\n      <td>0</td>\n      <td>0</td>\n      <td>1.320852087</td>\n      <td>103.93372109999999</td>\n    </tr>\n    <tr>\n      <th>2</th>\n      <td>1</td>\n      <td>CANTONMENT RD</td>\n      <td>2</td>\n      <td>2010</td>\n      <td>N</td>\n      <td>Y</td>\n      <td>N</td>\n      <td>N</td>\n      <td>N</td>\n      <td>N</td>\n      <td>...</td>\n      <td>0</td>\n      <td>0</td>\n      <td>0</td>\n      <td>0</td>\n      <td>0</td>\n      <td>0</td>\n      <td>0</td>\n      <td>0</td>\n      <td>1.277034744</td>\n      <td>103.841261</td>\n    </tr>\n    <tr>\n      <th>3</th>\n      <td>1</td>\n      <td>CHAI CHEE RD</td>\n      <td>15</td>\n      <td>1982</td>\n      <td>Y</td>\n      <td>N</td>\n      <td>N</td>\n      <td>N</td>\n      <td>N</td>\n      <td>N</td>\n      <td>...</td>\n      <td>92</td>\n      <td>0</td>\n      <td>0</td>\n      <td>0</td>\n      <td>0</td>\n      <td>0</td>\n      <td>0</td>\n      <td>0</td>\n      <td>1.327968792</td>\n      <td>103.92271600000001</td>\n    </tr>\n    <tr>\n      <th>4</th>\n      <td>1</td>\n      <td>CHANGI VILLAGE RD</td>\n      <td>4</td>\n      <td>1975</td>\n      <td>Y</td>\n      <td>Y</td>\n      <td>N</td>\n      <td>N</td>\n      <td>N</td>\n      <td>N</td>\n      <td>...</td>\n      <td>1</td>\n      <td>0</td>\n      <td>0</td>\n      <td>0</td>\n      <td>0</td>\n      <td>0</td>\n      <td>0</td>\n      <td>0</td>\n      <td>1.388546562</td>\n      <td>103.98780450000001</td>\n    </tr>\n  </tbody>\n</table>\n<p>5 rows × 26 columns</p>\n</div>"
     },
     "metadata": {},
     "execution_count": 62
    }
   ],
   "source": [
    "hdb_join.head()"
   ]
  },
  {
   "cell_type": "code",
   "execution_count": 63,
   "metadata": {},
   "outputs": [],
   "source": [
    "hdb_join.to_csv('hdb-properties-geocoded.csv', index=False)"
   ]
  }
 ],
 "metadata": {
  "language_info": {
   "codemirror_mode": {
    "name": "ipython",
    "version": 3
   },
   "file_extension": ".py",
   "mimetype": "text/x-python",
   "name": "python",
   "nbconvert_exporter": "python",
   "pygments_lexer": "ipython3",
   "version": "3.7.3-final"
  },
  "orig_nbformat": 2,
  "kernelspec": {
   "name": "python3",
   "display_name": "Python 3"
  }
 },
 "nbformat": 4,
 "nbformat_minor": 2
}